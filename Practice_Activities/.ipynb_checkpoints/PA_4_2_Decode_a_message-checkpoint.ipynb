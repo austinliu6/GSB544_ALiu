{
 "cells": [
  {
   "cell_type": "markdown",
   "metadata": {
    "id": "kPj76X_FP2uq"
   },
   "source": [
    "## Setup\n",
    "\n",
    "Run the code below to load the scrambled message:\n"
   ]
  },
  {
   "cell_type": "code",
   "execution_count": 28,
   "metadata": {
    "id": "YwkYMR2qP2ur"
   },
   "outputs": [],
   "source": [
    "import pandas as pd\n",
    "import re\n",
    "\n",
    "message = pd.read_csv(\"https://www.dropbox.com/s/lgpn3vmksk3ssdo/scrambled_message.txt?dl=1\")['Word']"
   ]
  },
  {
   "cell_type": "markdown",
   "metadata": {
    "id": "cI8ZE3LAP2us"
   },
   "source": [
    "In this activity, a \"word\" refers to any set of characters with no white space, even though they are not truly an English word.  That is, even though many of elements of the scrambled message vector are nonsense, and some have punctuation, you can consider each element to be a \"word\".\n",
    "\n",
    "Beware!  The object named `message` is a **pandas Series** of strings.  If you want to use functions that expect a string, rather than a series, remember `.apply()` and `lambda` functions.\n",
    "\n"
   ]
  },
  {
   "cell_type": "markdown",
   "metadata": {
    "id": "dYISAD8uQLAy"
   },
   "source": [
    "\n",
    "## Warm-up exercises\n",
    "\n",
    "1. How many characters are in the scrambled message?\n",
    "2. How many of these characters are white space?\n",
    "3. How many words are in the scrambled message?\n",
    "4. Show all the punctuation marks in the scrambled message.\n",
    "5. Print out, in all capitals, the longest word in the scrambled message.\n",
    "6. Print out every piece of a word that starts with the letter \"m\" and ends with the letter \"z\" in the scrambled message."
   ]
  },
  {
   "cell_type": "code",
   "execution_count": 29,
   "metadata": {
    "id": "6vB1tbjiQNvE"
   },
   "outputs": [
    {
     "data": {
      "text/plain": [
       "0                    Koila!\n",
       "1                     In   \n",
       "2                     kiew,\n",
       "3                         a\n",
       "4                 humble   \n",
       "               ...         \n",
       "122                     you\n",
       "123                 mabugh.\n",
       "124              ughhh?call\n",
       "125        meugh.ughhhh!   \n",
       "126                      K.\n",
       "Name: Word, Length: 127, dtype: object"
      ]
     },
     "execution_count": 29,
     "metadata": {},
     "output_type": "execute_result"
    }
   ],
   "source": [
    "message"
   ]
  },
  {
   "cell_type": "markdown",
   "metadata": {
    "id": "l3iJnnCJQOh7"
   },
   "source": [
    "\n",
    "\n",
    "## Decode a message\n",
    "\n",
    "Complete the following steps to decode the message.  \n",
    "\n",
    "1. Remove any spaces before or after each word.\n",
    "2. Any time you see the word \"ugh\", with any number of h's, followed by a punctuation mark, delete this.\n",
    "3. No word should be longer than 16 characters. Drop all extra characters beyond 13 off the end of each word.\n",
    "4. Replace all instances of exactly 2 a's with exactly 2 e's.\n",
    "5. Replace all z's with t's.\n",
    "6. Every word that ends in b, change that to a y.  *Hint: look out for punctuation!*\n",
    "7. Every word that starts with k, change that to a v.  *Hint: look out for capitalization!*\n",
    "8. Use `.join()` to recombine all your words into a message.\n",
    "9. Find the movie this quote is from."
   ]
  },
  {
   "cell_type": "code",
   "execution_count": 30,
   "metadata": {
    "id": "RRfjUzxMQQ5j"
   },
   "outputs": [
    {
     "data": {
      "text/plain": [
       "0             Koila!\n",
       "1                 In\n",
       "2              kiew,\n",
       "3                  a\n",
       "4             humble\n",
       "           ...      \n",
       "122              you\n",
       "123          mabugh.\n",
       "124       ughhh?call\n",
       "125    meugh.ughhhh!\n",
       "126               K.\n",
       "Name: Word, Length: 127, dtype: object"
      ]
     },
     "execution_count": 30,
     "metadata": {},
     "output_type": "execute_result"
    }
   ],
   "source": [
    "def strip_whitespace(text):\n",
    "    return text.strip()\n",
    "\n",
    "message = message.apply(strip_whitespace)\n",
    "message"
   ]
  },
  {
   "cell_type": "code",
   "execution_count": 41,
   "metadata": {},
   "outputs": [
    {
     "data": {
      "text/plain": [
       "0      Koila!\n",
       "1          In\n",
       "2       kiew,\n",
       "3           a\n",
       "4      humble\n",
       "        ...  \n",
       "122       you\n",
       "123       mab\n",
       "124      call\n",
       "125        me\n",
       "126        K.\n",
       "Name: Word, Length: 127, dtype: object"
      ]
     },
     "execution_count": 41,
     "metadata": {},
     "output_type": "execute_result"
    }
   ],
   "source": [
    "def removeugh(text):\n",
    "    x = r\"ugh+\"\n",
    "    if re.findall(x, text):\n",
    "        text = re.sub(r'ugh+h*[,.!?;]', '', text, flags=re.IGNORECASE)\n",
    "    else:\n",
    "        text = text\n",
    "    return text\n",
    "\n",
    "message = message.apply(removeugh)\n",
    "message"
   ]
  },
  {
   "cell_type": "code",
   "execution_count": 43,
   "metadata": {},
   "outputs": [
    {
     "data": {
      "text/plain": [
       "0      Koila!\n",
       "1          In\n",
       "2       kiew,\n",
       "3           a\n",
       "4      humble\n",
       "        ...  \n",
       "122       you\n",
       "123       mab\n",
       "124      call\n",
       "125        me\n",
       "126        K.\n",
       "Name: Word, Length: 127, dtype: object"
      ]
     },
     "execution_count": 43,
     "metadata": {},
     "output_type": "execute_result"
    }
   ],
   "source": [
    "def characlen (text):\n",
    "    if len(text) > 13:\n",
    "        text = re.sub(r'\\b(\\w{1,13})\\w*\\b', r'\\1', text)\n",
    "    else:\n",
    "        text = text\n",
    "    return text\n",
    "\n",
    "message = message.apply(characlen)\n",
    "message"
   ]
  },
  {
   "cell_type": "code",
   "execution_count": 44,
   "metadata": {},
   "outputs": [
    {
     "data": {
      "text/plain": [
       "0      Koila!\n",
       "1          In\n",
       "2       kiew,\n",
       "3           a\n",
       "4      humble\n",
       "        ...  \n",
       "122       you\n",
       "123       mab\n",
       "124      call\n",
       "125        me\n",
       "126        K.\n",
       "Name: Word, Length: 127, dtype: object"
      ]
     },
     "execution_count": 44,
     "metadata": {},
     "output_type": "execute_result"
    }
   ],
   "source": [
    "def replacea (text):\n",
    "    if re.findall(\"aa\", text):\n",
    "        text = re.sub(r'\\baa\\b', 'ee', text)\n",
    "    else:\n",
    "        text = text\n",
    "    return text\n",
    "message = message.apply(replacea)\n",
    "message"
   ]
  },
  {
   "cell_type": "code",
   "execution_count": 45,
   "metadata": {},
   "outputs": [
    {
     "data": {
      "text/plain": [
       "0      Koila!\n",
       "1          In\n",
       "2       kiew,\n",
       "3           a\n",
       "4      humble\n",
       "        ...  \n",
       "122       you\n",
       "123       mab\n",
       "124      call\n",
       "125        me\n",
       "126        K.\n",
       "Name: Word, Length: 127, dtype: object"
      ]
     },
     "execution_count": 45,
     "metadata": {},
     "output_type": "execute_result"
    }
   ],
   "source": [
    "def replacet (text):\n",
    "    text = text.replace('z', 't')\n",
    "    return text\n",
    "message = message.apply(replacet)\n",
    "message"
   ]
  },
  {
   "cell_type": "code",
   "execution_count": 46,
   "metadata": {},
   "outputs": [
    {
     "data": {
      "text/plain": [
       "0      Koila!\n",
       "1          In\n",
       "2       kiew,\n",
       "3           a\n",
       "4      humble\n",
       "        ...  \n",
       "122       you\n",
       "123       may\n",
       "124      call\n",
       "125        me\n",
       "126        K.\n",
       "Name: Word, Length: 127, dtype: object"
      ]
     },
     "execution_count": 46,
     "metadata": {},
     "output_type": "execute_result"
    }
   ],
   "source": [
    "def replaceby (text):\n",
    "    text = re.sub(r'\\b(\\w*?)b\\b', r'\\1y', text, flags=re.IGNORECASE)\n",
    "    return text\n",
    "message = message.apply(replaceby)\n",
    "message"
   ]
  },
  {
   "cell_type": "code",
   "execution_count": 47,
   "metadata": {},
   "outputs": [
    {
     "data": {
      "text/plain": [
       "0      voila!\n",
       "1          In\n",
       "2       view,\n",
       "3           a\n",
       "4      humble\n",
       "        ...  \n",
       "122       you\n",
       "123       may\n",
       "124      call\n",
       "125        me\n",
       "126        v.\n",
       "Name: Word, Length: 127, dtype: object"
      ]
     },
     "execution_count": 47,
     "metadata": {},
     "output_type": "execute_result"
    }
   ],
   "source": [
    "def replacek (text):\n",
    "    text = re.sub(r'\\b(k\\w*)', lambda x: 'v' + x.group(1)[1:], text, flags=re.IGNORECASE)\n",
    "    return text\n",
    "message = message.apply(replacek)\n",
    "message"
   ]
  },
  {
   "cell_type": "code",
   "execution_count": 52,
   "metadata": {},
   "outputs": [
    {
     "data": {
      "text/plain": [
       "'voila! In view, a humble vaudevilliana veteran, cast vicariously as both victim and villain by the vicissitudes of fate. This visage, no mere venaar of vanity, is a vestige of the vox populi now vacant, vanished. However, this valorous visitation of a bygone vexation stands vivified, and has vowed to vanquish these venal and virulent vermin, van guarding vice and vouchsafing the violently vicious and voracious violation of volition. The only verdict is vengeance; a vendetta, held as a votive not in vain, for the value and veracity of such shall one day vindicate the vigilant and the virtuous. verily this vichyssoise of verbiage vaars most verbose, so let me simply add that its my very good honour to maat you and you may call me v.'"
      ]
     },
     "execution_count": 52,
     "metadata": {},
     "output_type": "execute_result"
    }
   ],
   "source": [
    "fullmessage = \" \".join(message)\n",
    "fullmessage"
   ]
  },
  {
   "cell_type": "code",
   "execution_count": null,
   "metadata": {},
   "outputs": [],
   "source": []
  }
 ],
 "metadata": {
  "colab": {
   "provenance": []
  },
  "kernelspec": {
   "display_name": "Python 3 (ipykernel)",
   "language": "python",
   "name": "python3"
  },
  "language_info": {
   "codemirror_mode": {
    "name": "ipython",
    "version": 3
   },
   "file_extension": ".py",
   "mimetype": "text/x-python",
   "name": "python",
   "nbconvert_exporter": "python",
   "pygments_lexer": "ipython3",
   "version": "3.11.4"
  }
 },
 "nbformat": 4,
 "nbformat_minor": 1
}
